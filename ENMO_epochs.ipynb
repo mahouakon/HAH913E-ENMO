{
 "cells": [
  {
   "cell_type": "markdown",
   "id": "96aaedfa",
   "metadata": {},
   "source": [
    "# HAH913E — ENMO over epochs (10s / 30s / 60s)\n",
    "\n",
    "- **Public GitHub URL**: [https://github.com/mahouakon/HAH913E-ENMO](https://github.com/mahouakon/HAH913E-ENMO)\n",
    "- **Team members**: PEHE, KONE\n",
    "- **AI prompts used + modifications made afterwards**:\n",
    "  - We asked **ChatGPT** to provide an **example of how to calculate ENMO** and integrate it over different epoch lengths.\n",
    "  - We then **adapted this example to our own assignment**: we changed the CSV filename, recreated the notebook cells one by one in VS Code, and adjusted the code so it works with our own dataset.\n"
   ]
  }
 ],
 "metadata": {
  "language_info": {
   "name": "python"
  }
 },
 "nbformat": 4,
 "nbformat_minor": 5
}
