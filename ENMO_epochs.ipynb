{
 "cells": [
  {
   "cell_type": "markdown",
   "id": "96aaedfa",
   "metadata": {},
   "source": [
    "# HAH913E — ENMO over epochs (10s / 30s / 60s)\n",
    "\n",
    "- **Public GitHub URL**: [https://github.com/mahouakon/HAH913E-ENMO](https://github.com/mahouakon/HAH913E-ENMO)\n",
    "- **Team members**: PEHE, KONE\n",
    "- **AI prompts used + modifications made afterwards**:\n",
    "  - We asked **ChatGPT** to provide an **example of how to calculate ENMO** and integrate it over different epoch lengths.\n",
    "  - We then **adapted this example to our own assignment**: we changed the CSV filename, recreated the notebook cells one by one in VS Code, and adjusted the code so it works with our own dataset.\n"
   ]
  },
  {
   "cell_type": "code",
   "execution_count": 14,
   "id": "2e0e3d71",
   "metadata": {},
   "outputs": [
    {
     "name": "stdout",
     "output_type": "stream",
     "text": [
      "                     # accelerometer data in g\n",
      "t    x       y                               z\n",
      "0.00 -0.0938 -0.0156                    0.9531\n",
      "0.02 -0.0938 -0.0156                    0.9531\n",
      "0.04 -0.0938 -0.0156                    0.9531\n",
      "0.06 -0.0938 -0.0156                    0.9531\n"
     ]
    }
   ],
   "source": [
    "from pathlib import Path\n",
    "import pandas as pd\n",
    "\n",
    "\n",
    "DATA_PATH = Path(\"./0_z.csv\")  \n",
    "df = pd.read_csv(DATA_PATH)\n",
    "print(df.head())\n"
   ]
  },
  {
   "cell_type": "code",
   "execution_count": 15,
   "id": "0778c81d",
   "metadata": {},
   "outputs": [
    {
     "name": "stdout",
     "output_type": "stream",
     "text": [
      "✅ Fichier chargé avec succès !\n",
      "Lignes : 21000, Temps min = 0.0 s, Temps max = 419.98 s\n",
      "      t       x       y       z\n",
      "0  0.00 -0.0938 -0.0156  0.9531\n",
      "1  0.02 -0.0938 -0.0156  0.9531\n",
      "2  0.04 -0.0938 -0.0156  0.9531\n",
      "3  0.06 -0.0938 -0.0156  0.9531\n",
      "4  0.08 -0.0938 -0.0156  0.9531\n",
      "\n",
      "✅ ENMO calculé — aperçu :\n",
      "      t       x       y       z  enmo\n",
      "0  0.00 -0.0938 -0.0156  0.9531   0.0\n",
      "1  0.02 -0.0938 -0.0156  0.9531   0.0\n",
      "2  0.04 -0.0938 -0.0156  0.9531   0.0\n",
      "3  0.06 -0.0938 -0.0156  0.9531   0.0\n",
      "4  0.08 -0.0938 -0.0156  0.9531   0.0\n"
     ]
    }
   ],
   "source": [
    "from pathlib import Path\n",
    "import pandas as pd\n",
    "import numpy as np\n",
    "\n",
    "DATA_PATH = Path(\"./0_z.csv\")\n",
    "\n",
    "def load_data(path: Path) -> pd.DataFrame:\n",
    "    \"\"\"Charge le fichier CSV sans en-tête, ajoute les noms et convertit en numérique.\"\"\"\n",
    "    if not path.exists():\n",
    "        raise FileNotFoundError(f\"❌ Fichier introuvable : {path.resolve()}\")\n",
    "\n",
    "    # 🔸 Lecture du fichier en sautant la première ligne descriptive\n",
    "    df = pd.read_csv(\n",
    "        path,\n",
    "        skiprows=1,                # ignore \"# accelerometer data in g\"\n",
    "        names=[\"t\", \"x\", \"y\", \"z\"] # noms des colonnes\n",
    "    )\n",
    "\n",
    "    # 🧹 Conversion des colonnes en numérique (remplace les valeurs invalides par NaN)\n",
    "    for col in [\"t\", \"x\", \"y\", \"z\"]:\n",
    "        df[col] = pd.to_numeric(df[col], errors=\"coerce\")\n",
    "\n",
    "    # 🧽 Suppression des lignes qui auraient des NaN (valeurs non convertibles)\n",
    "    df = df.dropna(subset=[\"t\", \"x\", \"y\", \"z\"])\n",
    "\n",
    "    # 🔸 Tri et nettoyage\n",
    "    df = df.sort_values(\"t\").drop_duplicates(subset=\"t\").reset_index(drop=True)\n",
    "    return df\n",
    "\n",
    "def compute_enmo(df: pd.DataFrame) -> pd.DataFrame:\n",
    "    \"\"\"Calcule la colonne ENMO à partir de x, y, z.\"\"\"\n",
    "    norm = np.sqrt(df[\"x\"]**2 + df[\"y\"]**2 + df[\"z\"]**2)\n",
    "    enmo = np.maximum(norm - 1.0, 0.0)\n",
    "    out = df.copy()\n",
    "    out[\"enmo\"] = enmo\n",
    "    return out\n",
    "\n",
    "# 🚀 Exécution\n",
    "df = load_data(DATA_PATH)\n",
    "print(\"✅ Fichier chargé avec succès !\")\n",
    "print(f\"Lignes : {len(df)}, Temps min = {df['t'].min()} s, Temps max = {df['t'].max()} s\")\n",
    "print(df.head())\n",
    "\n",
    "df_enmo = compute_enmo(df)\n",
    "print(\"\\n✅ ENMO calculé — aperçu :\")\n",
    "print(df_enmo.head())\n"
   ]
  },
  {
   "cell_type": "code",
   "execution_count": 16,
   "id": "a337c32d",
   "metadata": {},
   "outputs": [
    {
     "name": "stdout",
     "output_type": "stream",
     "text": [
      "   epoch  enmo_10s\n",
      "0    0.0   0.00004\n",
      "1   10.0   0.00000\n",
      "2   20.0   0.00000\n",
      "3   30.0   0.00000\n",
      "4   40.0   0.00000\n",
      "   epoch  enmo_30s\n",
      "0    0.0  0.000013\n",
      "1   30.0  0.000117\n",
      "2   60.0  0.000000\n",
      "3   90.0  0.000000\n",
      "4  120.0  0.000000\n",
      "   epoch  enmo_60s\n",
      "0    0.0  0.000065\n",
      "1   60.0  0.000000\n",
      "2  120.0  0.000133\n",
      "3  180.0  0.000093\n",
      "4  240.0  0.358817\n"
     ]
    }
   ],
   "source": [
    "def integrate_enmo(df: pd.DataFrame, epoch_length: float) -> pd.DataFrame:\n",
    "    \"\"\"\n",
    "    Intègre l'ENMO sur des époques de taille epoch_length (en secondes).\n",
    "    Retourne un nouveau DataFrame avec les moyennes d'ENMO par époque.\n",
    "    \"\"\"\n",
    "    df_epoch = df.copy()\n",
    "    df_epoch[\"epoch\"] = (df_epoch[\"t\"] // epoch_length) * epoch_length\n",
    "    df_grouped = df_epoch.groupby(\"epoch\")[\"enmo\"].mean().reset_index()\n",
    "    df_grouped.rename(columns={\"enmo\": f\"enmo_{int(epoch_length)}s\"}, inplace=True)\n",
    "    return df_grouped\n",
    "\n",
    "# 🧮 Calcul pour 10, 30 et 60 secondes\n",
    "df_10s = integrate_enmo(df_enmo, 10)\n",
    "df_30s = integrate_enmo(df_enmo, 30)\n",
    "df_60s = integrate_enmo(df_enmo, 60)\n",
    "\n",
    "print(df_10s.head())\n",
    "print(df_30s.head())\n",
    "print(df_60s.head())\n"
   ]
  }
 ],
 "metadata": {
  "kernelspec": {
   "display_name": "Python (base)",
   "language": "python",
   "name": "base"
  },
  "language_info": {
   "codemirror_mode": {
    "name": "ipython",
    "version": 3
   },
   "file_extension": ".py",
   "mimetype": "text/x-python",
   "name": "python",
   "nbconvert_exporter": "python",
   "pygments_lexer": "ipython3",
   "version": "3.12.3"
  }
 },
 "nbformat": 4,
 "nbformat_minor": 5
}
